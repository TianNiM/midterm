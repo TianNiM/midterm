{
 "cells": [
  {
   "cell_type": "markdown",
   "metadata": {},
   "source": [
    "# Download  archive\n"
   ]
  },
  {
   "cell_type": "code",
   "execution_count": 1,
   "metadata": {
    "collapsed": true
   },
   "outputs": [],
   "source": [
    "import os\n",
    "import json\n",
    "import datetime\n",
    "import time\n",
    "import sys, os\n",
    "import logging\n",
    "import urllib\n",
    "import requests\n",
    "import shutil\n",
    "from pathlib import Path\n",
    "from urllib.error import HTTPError\n",
    "from urllib.request import urlopen"
   ]
  },
  {
   "cell_type": "code",
   "execution_count": 7,
   "metadata": {
    "collapsed": false
   },
   "outputs": [
    {
     "name": "stdout",
     "output_type": "stream",
     "text": [
      "/Users/yutian/Desktop/midterm/Data/archive/\n"
     ]
    }
   ],
   "source": [
    "p = Path(os.getcwd())\n",
    "path = str(p.parent) + '/Data/archive/'\n",
    "print(path)\n",
    "api_key=\"753ea190bf1f4958afded537c7b1aed2\""
   ]
  },
  {
   "cell_type": "code",
   "execution_count": 12,
   "metadata": {
    "collapsed": false
   },
   "outputs": [],
   "source": [
    "topic1=\"januery\"\n",
    "\n",
    "request_string=requests.get(\"https://api.nytimes.com/svc/archive/v1/2017/1.json?api-key=\"+api_key)\n",
    "results=request_string.text\n",
    "if request_string:\n",
    "    json_file_name=\".\".join([topic1,'json'])\n",
    "        \n",
    "    if not os.path.exists(path):\n",
    "        os.makedirs(path)\n",
    "    questions=json.loads(results)\n",
    "    with open(path+'/'+json_file_name,'w')as json_file:\n",
    "            json.dump(questions,json_file)\n",
    "            \n",
    "    "
   ]
  },
  {
   "cell_type": "code",
   "execution_count": null,
   "metadata": {
    "collapsed": true
   },
   "outputs": [],
   "source": []
  }
 ],
 "metadata": {
  "kernelspec": {
   "display_name": "Python 3",
   "language": "python",
   "name": "python3"
  },
  "language_info": {
   "codemirror_mode": {
    "name": "ipython",
    "version": 3
   },
   "file_extension": ".py",
   "mimetype": "text/x-python",
   "name": "python",
   "nbconvert_exporter": "python",
   "pygments_lexer": "ipython3",
   "version": "3.6.0"
  }
 },
 "nbformat": 4,
 "nbformat_minor": 2
}
