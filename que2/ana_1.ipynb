{
 "cells": [
  {
   "cell_type": "markdown",
   "metadata": {},
   "source": [
    "# Question2 analyze 1\n",
    "- compare 2008 10.4 Obama election with 2016 10.8 Trump election"
   ]
  },
  {
   "cell_type": "code",
   "execution_count": 29,
   "metadata": {
    "collapsed": true
   },
   "outputs": [],
   "source": [
    "import json\n",
    "import os\n",
    "import nltk\n",
    "import glob\n",
    "import string\n",
    "from pathlib import Path\n",
    "from collections import Counter"
   ]
  },
  {
   "cell_type": "code",
   "execution_count": 108,
   "metadata": {
    "collapsed": false
   },
   "outputs": [],
   "source": [
    "## function count the word frequency that describe obama and trump\n",
    "\n",
    "def wordfrequency(path,snippet_list):\n",
    "    files=glob.glob(path)\n",
    "    print(len(files))\n",
    "    for file in files:\n",
    "        with open(file,'r',encoding='utf-8', errors='ignore') as f:\n",
    "            data=json.load(f)\n",
    "            docs=data['response']['docs']\n",
    "            \n",
    "            for doc in docs:\n",
    "                ##print(\"xxxxxxxx\")\n",
    "                if 'snippet' in doc and doc['snippet'] is not None:\n",
    "                    snippet_list.append(doc['snippet'])\n",
    "                    \n",
    "                   \n",
    "                    \n",
    "                    \n",
    "                    \n",
    "    \n",
    "                        \n",
    "            "
   ]
  },
  {
   "cell_type": "code",
   "execution_count": 92,
   "metadata": {
    "collapsed": false
   },
   "outputs": [
    {
     "name": "stdout",
     "output_type": "stream",
     "text": [
      "/Users/yutian/Desktop/midterm/Data/articlesearch/obamavstrump/obama/*\n"
     ]
    }
   ],
   "source": [
    "p = Path(os.getcwd())\n",
    "obama_path=str(p.parent)+'/Data/articlesearch/obamavstrump/obama/*'\n",
    "print(obama_path)"
   ]
  },
  {
   "cell_type": "code",
   "execution_count": 137,
   "metadata": {
    "collapsed": false
   },
   "outputs": [
    {
     "name": "stdout",
     "output_type": "stream",
     "text": [
      "50\n",
      "[('What political candidate delivered the finishing blow to the public financing system for presidential campaigns?...', 1), ('One of the most memorable moments in the 1992 presidential campaign came on an MTV show when a young woman cheekily asked Bill Clinton: Boxers or briefs?     It took until the last day of the 2008 campaign for the subject of undergarments to come ...', 1), ('John Harwood of The New York Times and CNBC reports the first black major party presidential nominee, trails among whites by less than Democratic nominees normally do....', 1), ('What primary or caucus clinched the Democratic nomination for Barack Obama?...', 1), ('The following is a transcript of Senator Barack Obama’s victory speech in Chicago, as provided by Federal News Service....', 1), (\"Before Senator Barack Obama of Illinois, there was Gov. Tim Pettigrew of New York, the first black presidential nominee for the Democratic Party. But that happened in 1976, and in the pages of ''Treasure Chest,'' a comic book distributed to Cathol...\", 1), ('The day of days was nearly upon voters, and Senators John McCain and Barack Obama each sounded hopeful (but not too confident) and energized (though exhaustion lay behind the smiles) while hopscotching among swing states on Monday.     After 22 mo...', 1), ('Senator Barack Obama     At a rally in Jacksonville, Fla....', 1), ('Madelyn Dunham, who watched from afar as her grandson reached the brink of the presidency, did not live to see whether he won....', 1), ('On the last full day of campaigning Monday, candidates tried to get to as many places -- and as many people -- as possible....', 1), ('One way or the other, the next president will stand out. Either would be only the third sitting senator ever elected president. And either would be the first president born outside the continental United States. Here are some other distinctions.  ...', 1), ('To the Editor:....', 1), ('A campaign waged under the specter of war and financial crisis drew to an anxious finish as Senators Barack Obama and John McCain raced across nine states....', 1), (\"The Times's Katharine Q. Seelye narrates a look back at the two-year campaign....\", 1), ('How to curb executive pay has become a hot-button issue now that American taxpayers are shareholders in the nation’s largest banks....', 1), ('The 2008 election has upended how presidential campaigns are fought, a fact almost lost amid the battle....', 1), (\"Senator Barack Obama cast his ballot shortly after the polls opened here on Tuesday morning, walking into the Beulah Shoesmith Elementary School on this city's South Side with his wife and two daughters at 7:36 a.m....\", 1), ('At the final campaign rally of his presidential bid, Senator Barack Obama dusted off a chant that sustained the first year of his candidacy....', 1), ('Large crowds gathered in Times Square and outside a state office building in Harlem to cheer Senator Barack Obama of Illinois....', 1), ('We’re probably entering a period in which smart young liberals meet a stone-cold scarcity that they do not seem to recognize or have a plan for....', 1)]\n"
     ]
    }
   ],
   "source": [
    "snippet_list=[]\n",
    "wordfrequency(obama_path,snippet_list)\n",
    "print(Counter(snippet_list).most_common(20))\n",
    "\n"
   ]
  },
  {
   "cell_type": "code",
   "execution_count": 130,
   "metadata": {
    "collapsed": false
   },
   "outputs": [
    {
     "name": "stdout",
     "output_type": "stream",
     "text": [
      "[('The', 17), ('Barack', 17), ('Obama', 17), ('presidential', 14), ('Senator', 13), ('election', 13), ('campaign', 11), ('John', 11), ('political', 10), ('New', 10), ('last', 9), ('polls', 9), ('McCain', 8), ('one', 8), ('first', 7), ('final', 7), ('Democratic', 6), ('get', 6), ('state', 6), ('Republican', 6), ('voters', 6), ('It', 5), ('day', 5), ('2008', 5), ('York', 5), ('American', 5), ('Election', 5), ('time', 5), ('early', 5), ('night', 5), ('What', 4), ('following', 4), ('victory', 4), ('Gov.', 4), ('At', 4), ('rally', 4), ('On', 4), ('candidates', 4), ('--', 4), ('would', 4), ('And', 4), ('A', 4), ('two', 4), ('Democrats', 4), ('House', 4), ('find', 4), ('already', 4), ('make', 4), ('Mr.', 4), ('like', 4), ('Aired', 4), ('Monday', 4), ('may', 4), ('For', 4), ('wins', 4), ('U.S.', 4), ('One', 3), ('took', 3), ('...', 3), ('Times', 3), ('black', 3), ('among', 3), ('Federal', 3), ('News', 3), ('York,', 3), ('Senators', 3), ('president', 3), ('ever', 3), ('Tuesday', 3), ('office', 3), ('Harlem', 3), ('results', 3), ('Business', 3), ('TV', 3), ('Senate', 3), ('turnout', 3), ('long', 3), ('lines', 3), ('State', 3), ('Whoever', 3), ('election,', 3), ('electoral', 3), ('As', 3), ('Americans', 3), ('go', 3), ('four', 3), ('called', 3), ('campaign,', 3), ('This', 3), ('week', 3), ('another', 3), ('A.', 3), ('Republicans,', 3), ('Sarah', 3), ('Palin', 3), ('vote', 3), ('Representative', 3), ('candidate', 2), ('delivered', 2), ('public', 2)]\n"
     ]
    }
   ],
   "source": [
    "## split sentence into words and count the top 100 words \n",
    "from nltk.corpus import stopwords\n",
    "word_list=[]\n",
    "def splitsentence(snippet_list,word_list,filtered_words):\n",
    "    for item in snippet_list:\n",
    "        word_list.extend(item.split())\n",
    "        filtered_words = [word for word in word_list if word not in stopwords.words('english')]\n",
    "splitsentence(snippet_list,word_list,filtered_words)\n",
    "\n",
    "##print(Counter(word_list).most_common(50))\n",
    "##filtered_words = [word for word in word_list if word not in stopwords.words('english')]\n",
    "##print(filtered_words)\n",
    "print(Counter(filtered_words).most_common(100))"
   ]
  },
  {
   "cell_type": "code",
   "execution_count": 124,
   "metadata": {
    "collapsed": false
   },
   "outputs": [
    {
     "name": "stdout",
     "output_type": "stream",
     "text": [
      "/Users/yutian/Desktop/midterm/Data/articlesearch/obamavstrump/Trump/*\n"
     ]
    }
   ],
   "source": [
    "##Trump parts\n",
    "trump_path=str(p.parent)+'/Data/articlesearch/obamavstrump/Trump/*'\n",
    "print(trump_path)"
   ]
  },
  {
   "cell_type": "code",
   "execution_count": 136,
   "metadata": {
    "collapsed": false
   },
   "outputs": [
    {
     "name": "stdout",
     "output_type": "stream",
     "text": [
      "49\n",
      "[('The story of the 2016 election is not one of new media replacing old media, but of both struggling to define their roles....', 2), ('Teenagers used humor, wit and irony in their cartoons to comment on Donald Trump, Syria, dress codes and more....', 2), ('Oil prices tumbled on Wednesday as vote counting showed Republican Donald Trump doing better than expected in several crucial battleground states in the U.S. presidential election....', 2), ('Here’s what you need to know to start your day....', 2), ('In a campaign for president packed with moments to remember, and more than a few decisions to forget, there are some that will resonate for Hillary Clinton and Donald Trump on Election Day....', 2), ('Some 15 percent of Americans who cast a ballot on Tuesday said it was their first time voting in a presidential election, according to an early reading from the Reuters/Ipsos national Election Day poll, up from 9 percent of voters who said so in 2...', 2), (\"Britain's top share index rose slightly on Tuesday in choppy trade as voting in the U.S. election got underway, with better-than expected-results from Primark-owner AB Foods helping to support shares....\", 2), ('Democrat Hillary Clinton as president will have no policy mandate, even if elected by a wide margin, and would be wise to court Congress for an easy win on a big-dollar infrastructure bill, an economic aide to former Republican President George W....', 2), ('Mr. Trump voted at a school on the Upper East Side of Manhattan, joined by his wife, Melania, and daughter Ivanka....', 1), ('A Year of Photographing Donald Trump...', 1), ('In using the phrase “locker room talk” in a headline, The Times diminished the offensive language and actions of the Harvard men’s soccer team....', 1), ('Among the faithful the day before the election....', 1), ('Donald J. Trump was elected president in a stunning upset against Hillary Clinton....', 1), ('Donald J. Trump voted at a polling place in Manhattan, just blocks from his home and office at Trump Tower....', 1), ('The presidential campaign has proved the need for a third party....', 1), ('All night, I’ll be looking for (and worried about) signs that the polls are wrong....', 1), ('The 2016 campaign has been about changing demographics and shifting party coalitions as much as the two main candidates....', 1), ('Uppercase headlines on Breitbart and other media that back Donald J. Trump announced that most polls were wrong and pro-Clinton vote fraud was rampant....', 1), ('Times reporters provided real-time analysis of Donald J. Trump’s stunning upset in the presidential election on Tuesday....', 1), ('After 10 rallies in two days, Mr. Trump had lost some of his luster, but the crowd was largely excited to greet him, the standard-bearer of the Republican Party....', 1)]\n"
     ]
    }
   ],
   "source": [
    "snippet_list1=[]\n",
    "wordfrequency(trump_path,snippet_list1)\n",
    "print(Counter(snippet_list1).most_common(20))"
   ]
  },
  {
   "cell_type": "code",
   "execution_count": 135,
   "metadata": {
    "collapsed": false
   },
   "outputs": [
    {
     "name": "stdout",
     "output_type": "stream",
     "text": [
      "[('Donald', 31), ('presidential', 30), ('U.S.', 28), ('Trump', 26), ('election', 23), ('Tuesday', 22), ('The', 20), ('Hillary', 19), ('Republican', 14), ('Election', 14), ('Clinton', 14), ('said', 11), ('one', 10), ('markets', 10), ('president', 9), ('New', 9), ('states', 9), ('Wednesday', 9), ('election....', 8), ('campaign', 8), ('voting', 8), ('political', 8), ('A', 7), ('2016', 7), ('polls', 7), ('two', 7), ('early', 7), ('voters', 7), ('Tuesday,', 7), ('election,', 7), ('Americans', 7), ('voted', 6), ('J.', 6), ('polling', 6), ('need', 6), ('vote', 6), ('first', 6), ('Republicans', 6), ('York', 6), ('support', 6), (\"Tuesday's\", 6), ('cast', 6), ('In', 5), ('stunning', 5), ('place', 5), ('new', 5), ('country', 5), ('Democrats', 5), ('ballot', 5), ('Day', 5), ('win', 5), ('Here’s', 5), ('know', 5), ('percent', 5), ('Mr.', 4), ('elected', 4), ('media', 4), ('night,', 4), ('people', 4), ('already', 4), ('control', 4), ('TV', 4), ('many', 4), ('also', 4), ('across', 4), ('times', 4), ('expected', 4), ('night', 4), ('American', 4), ('Some', 4), ('day....', 4), ('economic', 4), ('candidate', 4), ('index', 4), ('tumbled', 4), ('showed', 4), ('United', 4), ('trade', 4), ('President', 4), ('Senate', 4), ('wife,', 3), ('Times', 3), ('day', 3), ('Clinton....', 3), ('party', 3), ('We', 3), ('start', 3), ('races', 3), ('discuss', 3), ('comment', 3), ('Trump,', 3), ('problems', 3), ('took', 3), ('four', 3), ('Clinton,', 3), ('elect', 3), ('found', 3), ('several', 3), ('...', 3), ('results', 3)]\n"
     ]
    }
   ],
   "source": [
    "word_list1=[]\n",
    "\n",
    "\n",
    "def splitsentence1(snippet_list1,word_list1,filtered_words1):\n",
    "    for item in snippet_list1:\n",
    "        word_list1.extend(item.split())\n",
    "        ##filtered_words1 = [word for word in word_list1 if word not in stopwords.words('english')]\n",
    "splitsentence1(snippet_list1,word_list1,filtered_words1)\n",
    "filtered_words1 = [word for word in word_list1 if word not in stopwords.words('english')]\n",
    "\n",
    "##print(filtered_words1)\n",
    "print(Counter(filtered_words1).most_common(100))"
   ]
  },
  {
   "cell_type": "markdown",
   "metadata": {
    "collapsed": true
   },
   "source": [
    "# conclusion:\n",
    "- compare obama in October 2008 and Trump in October 2016, through analyze nyt comments on these two, i find as the first black president in us, Obama earned more support than Trump, but the media though he is not perfect, such as:\n",
    "\"One of the most memorable moments in the 1992 presidential campaign came on an MTV show when a young woman cheekily asked Bill Clinton: Boxers or briefs?     It took until the last day of the 2008 campaign for the subject of undergarments to come \"\n",
    "\n",
    "but as african american, he get more support from media,such as:\n",
    "\n",
    "\"Before Senator Barack Obama of Illinois, there was Gov. Tim Pettigrew of New York, the first black presidential nominee for the Democratic Party. But that happened in 1976, and in the pages of ''Treasure Chest,'' a comic book\"\n",
    "\n",
    "while Trump not very lucky, such as:\n",
    "\n",
    "\"Teenagers used humor, wit and irony in their cartoons to comment on Donald Trump, Syria, dress codes and more\"\n",
    "\"Oil prices tumbled on Wednesday as vote counting showed Republican Donald Trump doing better than expected in several crucial battleground states in the U.S. presidential election\"\n",
    "\"Donald J. Trump was elected president in a stunning upset against Hillary Clinton\"\n",
    "\n",
    "- also through the frequent of words when 2008 obama has 3 main rivials such as Macain and sarah palin, while in 2016 just Trump and Hilary\n"
   ]
  }
 ],
 "metadata": {
  "kernelspec": {
   "display_name": "Python 3",
   "language": "python",
   "name": "python3"
  },
  "language_info": {
   "codemirror_mode": {
    "name": "ipython",
    "version": 3
   },
   "file_extension": ".py",
   "mimetype": "text/x-python",
   "name": "python",
   "nbconvert_exporter": "python",
   "pygments_lexer": "ipython3",
   "version": "3.6.0"
  }
 },
 "nbformat": 4,
 "nbformat_minor": 2
}
