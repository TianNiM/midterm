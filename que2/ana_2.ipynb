{
 "cells": [
  {
   "cell_type": "markdown",
   "metadata": {},
   "source": [
    "# Q2 analyze 2\n",
    "- Now how media think of Trump after he has won the election"
   ]
  },
  {
   "cell_type": "code",
   "execution_count": 2,
   "metadata": {
    "collapsed": true
   },
   "outputs": [],
   "source": [
    "import json\n",
    "import os\n",
    "import nltk\n",
    "import glob\n",
    "import string\n",
    "from pathlib import Path\n",
    "from collections import Counter"
   ]
  },
  {
   "cell_type": "code",
   "execution_count": 3,
   "metadata": {
    "collapsed": true
   },
   "outputs": [],
   "source": [
    "def wordfrequency(path,snippet_list):\n",
    "    files=glob.glob(path)\n",
    "    print(len(files))\n",
    "    for file in files:\n",
    "        with open(file,'r',encoding='utf-8', errors='ignore') as f:\n",
    "            data=json.load(f)\n",
    "            docs=data['response']['docs']\n",
    "            \n",
    "            for doc in docs:\n",
    "                ##print(\"xxxxxxxx\")\n",
    "                if 'snippet' in doc and doc['snippet'] is not None:\n",
    "                    snippet_list.append(doc['snippet'])"
   ]
  },
  {
   "cell_type": "code",
   "execution_count": 4,
   "metadata": {
    "collapsed": false
   },
   "outputs": [
    {
     "name": "stdout",
     "output_type": "stream",
     "text": [
      "/Users/yutian/Desktop/midterm/Data/articlesearch/Trump+Obama/*\n"
     ]
    }
   ],
   "source": [
    "p = Path(os.getcwd())\n",
    "trump_path=str(p.parent)+'/Data/articlesearch/Trump+Obama/*'\n",
    "print(trump_path)"
   ]
  },
  {
   "cell_type": "code",
   "execution_count": 5,
   "metadata": {
    "collapsed": false
   },
   "outputs": [
    {
     "name": "stdout",
     "output_type": "stream",
     "text": [
      "100\n",
      "[('Here’s what you need to know to start your day....', 7), ('The unusual problems presented by the first two-and-a-half weeks of the Trump administration....', 4), ('Here’s what you need to know at the end of the day....', 4), ('Before his speech to Congress, Mr. Trump said that “the time is right for an immigration bill as long as there is compromise on both sides.” But he made only a glancing reference to that assertion as he faced lawmakers....', 3), ('Our idea would reduce carbon emissions, limit regulatory intrusion, promote economic growth and help working-class Americans....', 3), ('What should consumers do now that President Trump is trying to kill a rule that would have forced investment professionals to act in customers’ best interests?...', 3), ('He brought soul and hip-hop into the White House like no president before him. A discussion of Mr. Obama’s most powerful musical moments, on this week’s Popcast....', 3), ('President Trump’s debut raises the question: 70 or 7?...', 3), ('The fate of the republic may hinge on how much the president emulates Andrew Jackson....', 3), ('U.S. President Donald Trump tweeted early on Friday that \"Iran is playing with fire\" and \"they don\\'t appreciate how kind President Obama was to them. Not me!\"...', 3), ('How to counter the new president? The intensity of the desire to fight back is producing what may turn out to be one of the most fertile periods of protest on the left in decades....', 3), ('Planners say they have raised more than $100 million, nearly double the record for an inauguration, much of it coming in large checks from corporations and wealthy people....', 3), ('Why does President Trump keep saying the United States is as bad as Russia?...', 3), ('In a raw news conference on Thursday, President Trump dismissed reports about contacts between his advisers and Russia and said his administration was not chaotic....', 3), ('Will Trump really kill Obamacare?...', 3), ('Ms. Stein, the Green Party presidential nominee, appeared emboldened as a judge ordered a recount in Michigan and her lawyers made a new case in Pennsylvania....', 3), ('The next occupant (at least part time) of the White House won’t lead or communicate policy like a normal leader....', 3), ('The Latest on President Donald Trump (all times local):...', 3), ('The outcry over the delay of cases to overhaul the Baltimore Police Department and challenge a Texas voter ID law came as Democrats pushed back a vote on Jeff Sessions as attorney general....', 3), ('Sprint said the jobs were part of an earlier commitment by the Japanese company, which owns a controlling stake in the wireless carrier....', 3)]\n"
     ]
    }
   ],
   "source": [
    "snippet_list=[]\n",
    "wordfrequency(trump_path,snippet_list)\n",
    "print(Counter(snippet_list).most_common(20))"
   ]
  },
  {
   "cell_type": "code",
   "execution_count": 12,
   "metadata": {
    "collapsed": false
   },
   "outputs": [
    {
     "name": "stdout",
     "output_type": "stream",
     "text": [
      "[('Trump', 348), ('President', 321), ('The', 272), ('Donald', 194), ('Obama', 104), ('president', 94), ('White', 86), ('Mr.', 81), ('Trump’s', 74), ('administration', 74), ('House', 71), ('U.S.', 68), ('said', 67), ('new', 63), ('A', 57), ('would', 56), ('Barack', 53), ('J.', 48), ('first', 45), ('United', 43), ('Republicans', 40), (\"Trump's\", 38), ('could', 36), ('federal', 36), ('president’s', 34), ('people', 34), ('back', 31), ('order', 31), ('may', 31), ('immigration', 30), ('Obama’s', 29), ('former', 28), ('like', 28), ('executive', 28), ('one', 27), ('Russian', 27), ('But', 26), ('American', 26), ('much', 26), ('Readers', 25), ('make', 24), ('health', 24), ('States', 24), ('In', 24), ('Trump,', 24), ('President-elect', 24), ('called', 23), ('Republican', 23), ('many', 23), ('policy', 23), ('Trump....', 23), ('political', 23), ('—', 22), ('Congress', 22), ('made', 22), ('say', 21), ('use', 21), ('military', 21), ('news', 21), ('know', 21), ('whether', 20), ('even', 20), ('public', 20), ('Democrats', 20), ('security', 19), ('immigrants', 19), ('plans', 19), ('officials', 19), ('last', 19), ('national', 19), ('plan', 18), ('Tuesday', 18), ('Wednesday', 18), ('intelligence', 18), ('Russia', 18), ('students', 17), ('set', 17), ('long', 17), ('need', 17), ('two', 17), ('says', 17), ('top', 17), ('leaders', 17), ('also', 16), ('government', 16), ('good', 16), ('country', 16), ('since', 16), ('presidential', 16), ('state', 16), ('questions', 16), ('fight', 16), ('Here’s', 16), ('start', 15), ('women', 15), ('campaign', 15), ('New', 15), ('transgender', 15), ('work', 15), ('call', 15)]\n"
     ]
    }
   ],
   "source": [
    "from nltk.corpus import stopwords\n",
    "word_list=[]\n",
    "filtered_words=[]\n",
    "def splitsentence(snippet_list,word_list,filtered_words):\n",
    "    for item in snippet_list:\n",
    "        word_list.extend(item.split())\n",
    "\n",
    "splitsentence(snippet_list,word_list,filtered_words)\n",
    "filtered_words = [word for word in word_list if word not in stopwords.words('english')]\n",
    "\n",
    "##print(Counter(word_list).most_common(50))\n",
    "##filtered_words = [word for word in word_list if word not in stopwords.words('english')]\n",
    "##print(filtered_words)\n",
    "print(Counter(filtered_words).most_common(100))"
   ]
  },
  {
   "cell_type": "markdown",
   "metadata": {},
   "source": [
    "# Conclusion :\n",
    "- after trump win the election, he draw some major problems in US, immigrants, security, ecnomic, Obama's all action, through analyzing he think Obama did not do his job well, so in this analyze, Obama has shown a lot."
   ]
  }
 ],
 "metadata": {
  "kernelspec": {
   "display_name": "Python 3",
   "language": "python",
   "name": "python3"
  },
  "language_info": {
   "codemirror_mode": {
    "name": "ipython",
    "version": 3
   },
   "file_extension": ".py",
   "mimetype": "text/x-python",
   "name": "python",
   "nbconvert_exporter": "python",
   "pygments_lexer": "ipython3",
   "version": "3.6.0"
  }
 },
 "nbformat": 4,
 "nbformat_minor": 2
}
