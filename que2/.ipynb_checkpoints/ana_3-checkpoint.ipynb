{
 "cells": [
  {
   "cell_type": "markdown",
   "metadata": {},
   "source": [
    "# Q2 analyze 3\n",
    "- find out what happened in 2017 Januery"
   ]
  },
  {
   "cell_type": "code",
   "execution_count": 43,
   "metadata": {
    "collapsed": true
   },
   "outputs": [],
   "source": [
    "import json\n",
    "import os\n",
    "import nltk\n",
    "import glob\n",
    "import string\n",
    "import csv\n",
    "from pathlib import Path\n",
    "from collections import Counter"
   ]
  },
  {
   "cell_type": "code",
   "execution_count": 39,
   "metadata": {
    "collapsed": false
   },
   "outputs": [],
   "source": [
    "def findtopicword(path,topic_list,hit_list):\n",
    "    files=glob.glob(path)\n",
    "    print(len(files))\n",
    "    for file in files:\n",
    "        with open(file,'r',encoding='utf-8', errors='ignore') as f:\n",
    "            data=json.load(f)\n",
    "            docs=data['response']['docs']\n",
    "            \n",
    "            for doc in docs:\n",
    "                \n",
    "                ##print(\"xxxxxxxx\")\n",
    "                if 'keywords' in doc and doc['keywords'] is not None:\n",
    "                    keywords=doc['keywords']\n",
    "                    for keyword in keywords:\n",
    "                        topic_list.append(keyword['value'])\n",
    "                    "
   ]
  },
  {
   "cell_type": "code",
   "execution_count": 37,
   "metadata": {
    "collapsed": false
   },
   "outputs": [
    {
     "name": "stdout",
     "output_type": "stream",
     "text": [
      "/Users/yutian/Desktop/midterm/Data/archive/*\n"
     ]
    }
   ],
   "source": [
    "p = Path(os.getcwd())\n",
    "topic_path=str(p.parent)+'/Data/archive/*'\n",
    "print(topic_path)"
   ]
  },
  {
   "cell_type": "code",
   "execution_count": 44,
   "metadata": {
    "collapsed": false
   },
   "outputs": [
    {
     "name": "stdout",
     "output_type": "stream",
     "text": [
      "1\n",
      "[('Trump, Donald J', 985), ('United States Politics and Government', 682), ('Books and Literature', 179), ('Movies', 176), ('Inaugurations', 152), ('Obama, Barack', 148), ('Television', 147), ('Immigration and Emigration', 145), ('Politics and Government', 135), ('Appointments and Executive Changes', 128), ('United States International Relations', 124), ('News and News Media', 115), ('Art', 115), ('Fashion and Apparel', 113), ('New York City', 111), ('Demonstrations, Protests and Riots', 108), ('Republican Party', 106), ('Refugees and Displaced Persons', 104), (\"Men's Fashion Week\", 102), ('China', 100), ('Women and Girls', 100), ('Deaths (Obituaries)', 99), ('Theater', 97), ('Real Estate and Housing (Residential)', 93), ('Russia', 93), ('Travel and Vacations', 92), ('Football', 90), ('Basketball', 87), ('Executive Orders and Memorandums', 86), ('Presidential Election of 2016', 78), ('Terrorism', 75), ('Murders, Attempted Murders and Homicides', 73), ('Weddings and Engagements', 71), ('Patient Protection and Affordable Care Act (2010)', 68), ('International Trade and World Market', 68), ('United States', 67), ('Health Insurance and Managed Care', 66), ('Labor and Jobs', 64), ('Tennis', 62), ('Music', 61), ('Photography', 60), ('Senate', 59), ('Blacks', 59), ('Muslims and Islam', 59), ('Paris Fashion Week', 58), ('Washington (DC)', 56), ('Australian Open (Tennis)', 54), ('Computers and the Internet', 53), ('Social Media', 53), ('Great Britain', 50)]\n",
      "<class 'list'>\n"
     ]
    }
   ],
   "source": [
    "## find the most 50 topic in 2017/1\n",
    "topic_list=[]\n",
    "hit_list=[]\n",
    "findtopicword(topic_path,topic_list,hit_list)\n",
    "##print(topic_list)\n",
    "print(Counter(topic_list).most_common(50))\n",
    "common_topic=Counter(topic_list).most_common(50)\n",
    "print(type(common_topic))\n",
    "\n",
    "##print(Counter(hit_list).most_common(20))"
   ]
  },
  {
   "cell_type": "code",
   "execution_count": 46,
   "metadata": {
    "collapsed": false
   },
   "outputs": [],
   "source": [
    "## save the topic into csv file\n",
    "save_path='ana_3/most_topic50.csv'\n",
    "with open(save_path,'w') as outcsv:\n",
    "    filewriter=csv.DictWriter(outcsv,fieldnames=[\"Topic\",\"Frequency\"])\n",
    "    filewriter.writeheader()\n",
    "    for item in common_topic:\n",
    "        filewriter.writerow({'Topic':item[0],'Frequency':item[1]})"
   ]
  },
  {
   "cell_type": "markdown",
   "metadata": {},
   "source": [
    "# Conclusion:\n",
    "- through analyze the archive most 50 topic, obvious the election last very long, Trump, Obama, and politics relate topic is most popular topic."
   ]
  }
 ],
 "metadata": {
  "kernelspec": {
   "display_name": "Python 3",
   "language": "python",
   "name": "python3"
  },
  "language_info": {
   "codemirror_mode": {
    "name": "ipython",
    "version": 3
   },
   "file_extension": ".py",
   "mimetype": "text/x-python",
   "name": "python",
   "nbconvert_exporter": "python",
   "pygments_lexer": "ipython3",
   "version": "3.6.0"
  }
 },
 "nbformat": 4,
 "nbformat_minor": 2
}
