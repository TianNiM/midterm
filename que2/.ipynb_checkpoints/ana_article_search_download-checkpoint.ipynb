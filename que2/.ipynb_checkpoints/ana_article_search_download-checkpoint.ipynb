{
 "cells": [
  {
   "cell_type": "markdown",
   "metadata": {
    "collapsed": true
   },
   "source": [
    "# Question2 "
   ]
  },
  {
   "cell_type": "markdown",
   "metadata": {
    "collapsed": false
   },
   "source": [
    "- trump vs obama\n"
   ]
  },
  {
   "cell_type": "code",
   "execution_count": 3,
   "metadata": {
    "collapsed": false
   },
   "outputs": [],
   "source": [
    "import os\n",
    "import json\n",
    "import datetime\n",
    "import time\n",
    "import sys, os\n",
    "import logging\n",
    "import urllib\n",
    "from urllib.error import HTTPError\n",
    "from urllib.request import urlopen\n",
    "##from ConfigParser import SafeConfigParser"
   ]
  },
  {
   "cell_type": "code",
   "execution_count": 4,
   "metadata": {
    "collapsed": false
   },
   "outputs": [],
   "source": [
    "import requests\n",
    "import os\n",
    "import shutil\n",
    "from pathlib import Path\n"
   ]
  },
  {
   "cell_type": "code",
   "execution_count": 5,
   "metadata": {
    "collapsed": false
   },
   "outputs": [
    {
     "name": "stdout",
     "output_type": "stream",
     "text": [
      "/Users/yutian/Desktop/midterm/Data/articlesearch/obamavstrump/\n"
     ]
    }
   ],
   "source": [
    "\n",
    "p = Path(os.getcwd())\n",
    "path = str(p.parent) + '/Data/articlesearch/obamavstrump/'\n",
    "print(path)\n",
    "\n",
    "nyt_archive_key = os.getenv('nyt_archive_key')\n",
    "api_key=\"753ea190bf1f4958afded537c7b1aed2\"\n",
    "##topic=\"Trump+Obama\"\n",
    "##file_path='Data/'+topic+'/'+page+'/'\n",
    "#for page in range(100):\n",
    "#    request_string=requests.get(\"http://api.nytimes.com/svc/search/v2/articlesearch.json?&q=\"+topic +\"&api-key=\" + api_key+\"&page=\" + str(page))\n",
    "#    results=request_string.text\n",
    "#    if request_string:\n",
    "#        json_file_name=\".\".join([topic,str(page),'json'])\n",
    "#        path='Data/'+topic+'/'\n",
    "#        if not os.path.exists(path):\n",
    "#                    os.makedirs(path)\n",
    "#        questions=json.loads(results)\n",
    "#        with open(path+'/'+json_file_name,'w') as json_file:\n",
    "#            json.dump(questions,json_file)\n",
    "           \n",
    "                 \n",
    "        \n",
    "#    time.sleep(3)"
   ]
  },
  {
   "cell_type": "code",
   "execution_count": 7,
   "metadata": {
    "collapsed": false
   },
   "outputs": [],
   "source": [
    "topic1=\"Obama\"\n",
    "for page in range(50):\n",
    "    request_string=requests.get(\"http://api.nytimes.com/svc/search/v2/articlesearch.json?&q=\"+topic1+\n",
    "                              \"&api-key=\"+api_key+\"&page=\"+str(page)+\"&begin_date=20081104&end_date=20081104\")\n",
    "    results=request_string.text\n",
    "    if request_string:\n",
    "        json_file_name=\".\".join([topic1,str(page),'json'])\n",
    "        \n",
    "        if not os.path.exists(path):\n",
    "            os.makedirs(path)\n",
    "        questions=json.loads(results)\n",
    "        with open(path+'/'+json_file_name,'w')as json_file:\n",
    "            json.dump(questions,json_file)\n",
    "            \n",
    "    time.sleep(3)"
   ]
  },
  {
   "cell_type": "code",
   "execution_count": 8,
   "metadata": {
    "collapsed": true
   },
   "outputs": [],
   "source": [
    "topic2=\"Trump\"\n",
    "for page in range(50):\n",
    "    request_string=requests.get(\"http://api.nytimes.com/svc/search/v2/articlesearch.json?&q=\"+topic2+\n",
    "                              \"&api-key=\"+api_key+\"&page=\"+str(page)+\"&begin_date=20161108&end_date=20161108\")\n",
    "    results=request_string.text\n",
    "    if request_string:\n",
    "        json_file_name=\".\".join([topic2,str(page),'json'])\n",
    "       \n",
    "        if not os.path.exists(path):\n",
    "            os.makedirs(path)\n",
    "        questions=json.loads(results)\n",
    "        with open(path+'/'+json_file_name,'w')as json_file:\n",
    "            json.dump(questions,json_file)\n",
    "            \n",
    "    time.sleep(3)"
   ]
  },
  {
   "cell_type": "code",
   "execution_count": null,
   "metadata": {
    "collapsed": true
   },
   "outputs": [],
   "source": []
  }
 ],
 "metadata": {
  "kernelspec": {
   "display_name": "Python 3",
   "language": "python",
   "name": "python3"
  },
  "language_info": {
   "codemirror_mode": {
    "name": "ipython",
    "version": 3
   },
   "file_extension": ".py",
   "mimetype": "text/x-python",
   "name": "python",
   "nbconvert_exporter": "python",
   "pygments_lexer": "ipython3",
   "version": "3.6.0"
  }
 },
 "nbformat": 4,
 "nbformat_minor": 2
}
