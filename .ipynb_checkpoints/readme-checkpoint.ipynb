{
 "cells": [
  {
   "cell_type": "markdown",
   "metadata": {},
   "source": [
    "# Conclusion Q1:\n",
    "- background: lay k is the ceo of enron, also the crime for this, so i think mainly focus on him can reveal this whole thing in an effecient way.\n",
    "- in this part, i analyze three parts:\n",
    "1. analyze lay k the ceo of enron social network.\n",
    "2. analyze his email message top words and count the frequency of each words and find out the topic of his each mail.\n",
    "3. analyze the whole company mails in 2001, which is the doomsday for enron.\n",
    "\n",
    "- i generate two files for this analyze, one txt file collect all mail messages from lay k, the other csv file collect date and mails subject in 2001, which try to find out if there is some evidence can show enron's collapse.\n",
    "\n",
    "\n",
    "- conclusion:\n",
    "1. through checking lay k's social network, i found that lay k has 372 times email connection with jeff.skilling, which is also a crime for enron. also i found lay k's daughter and son have frequent connection through mail, which maybe normal for a family, so we will continue analyze to find more evidence.\n",
    "2. second, i start to find the most word in his email and the topic he always mentioned in emails. through analyze, i find some interesting words like \"stock\", \"retirment\",\"bill\",\"bankruptcy\". also according to the most 20 topic in his mails, i also discover some interesting topic, like \"Demand Ken Lay Donate Proceeds from Enron Stock Sales\",\"Lilly Press Release\",\"Transactions in Lilly Stock\",so  in this part, i found lay k may manipulate the stock with family.\n",
    "\n",
    "3. accoding to 2001, the doom day for enron, i found  many interesting information look at this one :\n",
    "Sun, 9 Dec 2001 01:02:27 -0800 (PST)          Are You Living in Debt, Paycheck to Paycheck?14822\n",
    "\n",
    "Mon, 3 Dec 2001 13:38:30 -0800 (PST)         Ken, Can you help?\n",
    "Fri, 30 Nov 2001 20:49:55 -0800 (PST)        Thank You for Your Hard Work\n",
    "Fri, 30 Nov 2001 12:57:01 -0800 (PST)        Investing advice\n",
    "Fri, 30 Nov 2001 08:35:57 -0800 (PST)         The Lord has sent me to pray over Enron.\n",
    "Wed, 28 Nov 2001 20:51:31 -0800 (PST)         We have faith in you!\n",
    "Wed, 28 Nov 2001 13:23:21 -0800 (PST)          We're behind you !!\n",
    "Fri, 14 Sep 2001 00:28:25 -0700 (PDT)         \"See\" how well we're doing\n",
    "Fri, 5 Oct 2001 08:19:02 -0700 (PDT)           Laura Bush\n",
    "\n",
    "like that, i think it is very interesting, in 2001, the whole company not working very well, but lay k still tell his employee it just a little bump for us, and accoding to mail, employees are still have faith on him, on the other hand, lay k try to get as much as possible profit for his family, also he also connect with Bush, provide a fund for his anti-terroist war."
   ]
  },
  {
   "cell_type": "markdown",
   "metadata": {},
   "source": [
    "# Question2 \n",
    "- analyze 1:\n",
    "  compare obama in October 2008 and Trump in October 2016, through analyze nyt comments on these two, i find as the first black president in us, Obama earned more support than Trump, but the media though he is not perfect, such as: \"One of the most memorable moments in the 1992 presidential campaign came on an MTV show when a young woman cheekily asked Bill Clinton: Boxers or briefs? It took until the last day of the 2008 campaign for the subject of undergarments to come \"\n",
    "but as african american, he get more support from media,such as:\n",
    "  \"Before Senator Barack Obama of Illinois, there was Gov. Tim Pettigrew of New York, the first black presidential nominee for the Democratic Party. But that happened in 1976, and in the pages of ''Treasure Chest,'' a comic book\"\n",
    "while Trump not very lucky, such as:\n",
    "  \"Teenagers used humor, wit and irony in their cartoons to comment on Donald Trump, Syria, dress codes and more\" \"Oil prices tumbled on Wednesday as vote counting showed Republican Donald Trump doing better than expected in several crucial battleground states in the U.S. presidential election\" \"Donald J. Trump was elected president in a stunning upset against Hillary Clinton\"\n",
    "also through the frequent of words when 2008 obama has 3 main rivials such as Macain and sarah palin, while in 2016 just Trump and Hilary\n",
    "\n",
    "- analyze 2:\n",
    "  after trump win the election, he draw some major problems in US, immigrants, security, ecnomic, Obama's all action, through analyzing he think Obama did not do his job well, so in this analyze, Obama has shown a lot.\n",
    "  \n",
    "- analyze 3:\n",
    "  through analyze the archive most 50 topic, obvious the election last very long, Trump, Obama, and politics relate topic is most popular topic."
   ]
  }
 ],
 "metadata": {
  "kernelspec": {
   "display_name": "Python 3",
   "language": "python",
   "name": "python3"
  },
  "language_info": {
   "codemirror_mode": {
    "name": "ipython",
    "version": 3
   },
   "file_extension": ".py",
   "mimetype": "text/x-python",
   "name": "python",
   "nbconvert_exporter": "python",
   "pygments_lexer": "ipython3",
   "version": "3.6.0"
  }
 },
 "nbformat": 4,
 "nbformat_minor": 2
}
