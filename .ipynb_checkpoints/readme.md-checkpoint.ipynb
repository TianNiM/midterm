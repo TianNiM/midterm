{
 "cells": [
  {
   "cell_type": "code",
   "execution_count": 5,
   "metadata": {
    "collapsed": true
   },
   "outputs": [],
   "source": [
    "import os"
   ]
  },
  {
   "cell_type": "code",
   "execution_count": 7,
   "metadata": {
    "collapsed": false
   },
   "outputs": [],
   "source": [
    "\n",
    "nyt_archive_key = os.getenv('nyt_archive_key')\n"
   ]
  },
  {
   "cell_type": "code",
   "execution_count": 45,
   "metadata": {
    "collapsed": false
   },
   "outputs": [],
   "source": [
    "import json\n",
    "import datetime\n",
    "import time\n",
    "import sys, os\n",
    "import logging\n",
    "import urllib\n",
    "from urllib.error import HTTPError\n",
    "from urllib.request import urlopen\n",
    "##from ConfigParser import SafeConfigParser"
   ]
  },
  {
   "cell_type": "code",
   "execution_count": 68,
   "metadata": {
    "collapsed": false
   },
   "outputs": [],
   "source": [
    "import requests\n",
    "import os\n",
    "import shutil\n",
    "##import responses\n",
    "##resp = urllib.request.urlopen(req)\n",
    "##respData = resp.read()"
   ]
  },
  {
   "cell_type": "code",
   "execution_count": 79,
   "metadata": {
    "collapsed": false
   },
   "outputs": [
    {
     "ename": "KeyboardInterrupt",
     "evalue": "",
     "output_type": "error",
     "traceback": [
      "\u001b[0;31m---------------------------------------------------------------------------\u001b[0m",
      "\u001b[0;31mKeyboardInterrupt\u001b[0m                         Traceback (most recent call last)",
      "\u001b[0;32m<ipython-input-79-afa0f13df0be>\u001b[0m in \u001b[0;36m<module>\u001b[0;34m()\u001b[0m\n\u001b[1;32m     21\u001b[0m \u001b[0;34m\u001b[0m\u001b[0m\n\u001b[1;32m     22\u001b[0m \u001b[0;34m\u001b[0m\u001b[0m\n\u001b[0;32m---> 23\u001b[0;31m     \u001b[0mtime\u001b[0m\u001b[0;34m.\u001b[0m\u001b[0msleep\u001b[0m\u001b[0;34m(\u001b[0m\u001b[0;36m3\u001b[0m\u001b[0;34m)\u001b[0m\u001b[0;34m\u001b[0m\u001b[0m\n\u001b[0m",
      "\u001b[0;31mKeyboardInterrupt\u001b[0m: "
     ]
    }
   ],
   "source": [
    "api_key=\"753ea190bf1f4958afded537c7b1aed2\"\n",
    "topic=\"Trump+Obama\"\n",
    "##file_path='Data/'+topic+'/'+page+'/'\n",
    "for page in range(100):\n",
    "    request_string=requests.get(\"http://api.nytimes.com/svc/search/v2/articlesearch.json?&query=\"+topic +\"&api-key=\" + api_key+\"&page=\" + str(page))\n",
    "    results=request_string.text\n",
    "    if request_string:\n",
    "        json_file_name=\".\".join([topic,str(page),'json'])\n",
    "        path='Data/'+topic+'/'\n",
    "        if not os.path.exists(path):\n",
    "                    os.makedirs(path)\n",
    "        questions=json.loads(results)\n",
    "        with open(path+'/'+json_file_name,'w') as json_file:\n",
    "            json_file.dumps(questions)\n",
    "            ##for block in request_string.iter_content(1024):\n",
    "               \n",
    "            ##shutil.copy(json_file_name, path)\n",
    "                ##if block:\n",
    "                    ##json_file.write(str(block))\n",
    "            \n",
    "                 \n",
    "        \n",
    "    time.sleep(3)"
   ]
  },
  {
   "cell_type": "code",
   "execution_count": null,
   "metadata": {
    "collapsed": true
   },
   "outputs": [],
   "source": []
  }
 ],
 "metadata": {
  "kernelspec": {
   "display_name": "Python 3",
   "language": "python",
   "name": "python3"
  },
  "language_info": {
   "codemirror_mode": {
    "name": "ipython",
    "version": 3
   },
   "file_extension": ".py",
   "mimetype": "text/x-python",
   "name": "python",
   "nbconvert_exporter": "python",
   "pygments_lexer": "ipython3",
   "version": "3.6.0"
  }
 },
 "nbformat": 4,
 "nbformat_minor": 2
}
