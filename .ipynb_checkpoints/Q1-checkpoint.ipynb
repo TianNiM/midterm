{
 "cells": [
  {
   "cell_type": "markdown",
   "metadata": {},
   "source": [
    "# Q1 Analyze enron\n",
    "- analyze CEO of enron, Lay K's email, find his social network\n",
    "- find most frequency words in lay k's mail, and most topic he mentioned\n",
    "- analyze the enron company's mail in 2001, find some evidence\n"
   ]
  },
  {
   "cell_type": "code",
   "execution_count": null,
   "metadata": {
    "collapsed": false
   },
   "outputs": [],
   "source": [
    "import os\n",
    "import email\n",
    "from email.parser import Parser\n",
    "from collections import Counter"
   ]
  },
  {
   "cell_type": "code",
   "execution_count": null,
   "metadata": {
    "collapsed": false
   },
   "outputs": [],
   "source": [
    "#Lay k 's social network\n",
    "rootdir=\"q1/maildir/lay-k\"\n",
    "rootdir_all=\"q1/maildir\"\n",
    "\n",
    "\n",
    "def email_analyse(inputfile,to_email_list,from_email_list,email_body,subject_list):\n",
    "    with open(inputfile,'r',encoding='utf-8',errors='ignore') as f:\n",
    "        data=f.read()\n",
    "    email=Parser().parsestr(data)\n",
    "    \n",
    "    if email['to']:\n",
    "        email_to=email['to']\n",
    "        email_to=email_to.replace(\"\\n\",\"\")\n",
    "        email_to=email_to.replace(\"\\t\",\"\")\n",
    "        email_to=email_to.replace(\" \",\"\")\n",
    "        email_to=email_to.split(\",\")\n",
    "        \n",
    "        for email_to_1 in email_to:\n",
    "            to_email_list.append(email_to_1)\n",
    "            \n",
    "    from_email_list.append(email['from'])\n",
    "    email_body.append(email.get_payload())\n",
    "    subject_list.append(email['subject'])\n",
    "\n",
    "    \n",
    "to_email_list=[]\n",
    "from_email_list=[]\n",
    "email_body=[]\n",
    "subject_list=[]\n",
    "\n",
    "\n",
    "for directory,subdirectory,filenames in os.walk(rootdir):\n",
    "    for filename in filenames:\n",
    "        email_analyse(os.path.join(directory,filename), to_email_list, from_email_list, email_body,subject_list)\n",
    "    \n",
    "print(\"\\nTo email address: \\n\")\n",
    "print(Counter(to_email_list).most_common(10))\n",
    "\n",
    "print(\"\\nFrom email address: \\n\")\n",
    "print(Counter(from_email_list).most_common(10))\n",
    "\n",
    "##print(Counter(email_body).most_common(10))\n",
    "\n",
    "with open(\"q1/email_body.txt\", \"w\",encoding='utf-8',errors='ignore') as f:\n",
    "    for email_bod in email_body:\n",
    "        if email_bod:\n",
    "            f.write(email_bod)\n",
    "            f.write(\"\\n\")         \n",
    "\n",
    "\n",
    "\n"
   ]
  },
  {
   "cell_type": "code",
   "execution_count": null,
   "metadata": {
    "collapsed": false
   },
   "outputs": [],
   "source": [
    "##find words frequency in lay k's emails \n",
    "import nltk\n",
    "import string\n",
    "from nltk.tokenize import word_tokenize\n",
    "from nltk.corpus import stopwords\n",
    "\n",
    "with open(\"q1/email_body.txt\",\"r\") as f:\n",
    "    data=f.read()\n",
    "\n",
    "words=word_tokenize(data)\n",
    "words = [''.join(c for c in s if c not in string.punctuation) for s in words]\n",
    "words = [s for s in words if s]\n",
    "frequency = nltk.FreqDist(words)\n",
    "print(frequency.most_common(100))\n",
    "\n"
   ]
  },
  {
   "cell_type": "code",
   "execution_count": null,
   "metadata": {
    "collapsed": false
   },
   "outputs": [],
   "source": [
    "#find out what lay k's topic in his emails\n",
    "\n",
    "for directory,subdirectory,filenames in os.walk(rootdir):\n",
    "    for filename in filenames:\n",
    "        email_analyse(os.path.join(directory,filename), to_email_list, from_email_list, email_body,subject_list)\n",
    "print(\"\\nTopic Email: \\n\")   \n",
    "print(Counter(subject_list).most_common(20))\n",
    "      \n",
    "    "
   ]
  },
  {
   "cell_type": "code",
   "execution_count": null,
   "metadata": {
    "collapsed": false
   },
   "outputs": [],
   "source": [
    "##2001 before doomsday\n",
    "import itertools\n",
    "import sys, csv , operator\n",
    "date_list=[]\n",
    "doomsday_dic={}\n",
    "\n",
    "def doomsday(inputfile,date,subject):\n",
    "    with open(inputfile,'r',encoding='utf-8', errors='ignore') as f:\n",
    "        data=f.read()\n",
    "    email=Parser().parsestr(data)\n",
    "    \n",
    "    if \"2001\" in str(email['date']):\n",
    "        doomsday_dic[email['date']]=email['subject']\n",
    "        \n",
    "    date_list.append(email['date']) \n",
    "    subject_list.append(email['subject'])\n",
    "    \n",
    "    \n",
    "    \n",
    "for directory,subdirectory,filenames in os.walk(rootdir):\n",
    "    for filename in filenames:\n",
    "        doomsday(os.path.join(directory,filename),date_list,subject_list)\n",
    "        \n",
    "        \n",
    "        \n",
    "print(\"\\nDooms Day: \\n\")\n",
    "print(doomsday_dic)\n",
    "\n",
    "with open('q1/2001doomsday.csv','w') as f:\n",
    "    filewriter=csv.DictWriter(f,fieldnames=[\"Date\",\"subject\"])\n",
    "    filewriter.writeheader()\n",
    "    \n",
    "    for key,value in doomsday_dic.items():\n",
    "        filewriter.writerow({'Date':key,'subject':value})\n",
    "                                            \n",
    "\n",
    "\n",
    "\n",
    "\n",
    "    \n",
    "\n",
    "    \n"
   ]
  },
  {
   "cell_type": "code",
   "execution_count": null,
   "metadata": {
    "collapsed": true
   },
   "outputs": [],
   "source": []
  }
 ],
 "metadata": {
  "kernelspec": {
   "display_name": "Python 3",
   "language": "python",
   "name": "python3"
  },
  "language_info": {
   "codemirror_mode": {
    "name": "ipython",
    "version": 3
   },
   "file_extension": ".py",
   "mimetype": "text/x-python",
   "name": "python",
   "nbconvert_exporter": "python",
   "pygments_lexer": "ipython3",
   "version": "3.6.0"
  }
 },
 "nbformat": 4,
 "nbformat_minor": 2
}
